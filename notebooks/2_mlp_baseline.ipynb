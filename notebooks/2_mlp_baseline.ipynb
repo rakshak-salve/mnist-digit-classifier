{
 "cells": [
  {
   "cell_type": "code",
   "execution_count": 11,
   "id": "fa01d91c-0823-4f78-808b-06ca699179f9",
   "metadata": {},
   "outputs": [],
   "source": [
    "import numpy as np\n",
    "from tensorflow.keras.datasets import mnist\n",
    "from tensorflow.keras.models import Sequential\n",
    "from tensorflow.keras.layers import Dense, Flatten\n",
    "import matplotlib.pyplot as plt\n",
    "\n",
    "(X_train, y_train), (X_test, y_test) = mnist.load_data()"
   ]
  },
  {
   "cell_type": "code",
   "execution_count": 12,
   "id": "a6f55816-6386-4e30-a25c-25772a9070b3",
   "metadata": {},
   "outputs": [],
   "source": [
    "# Normalize pixel values\n",
    "X_train_norm = X_train.astype('float32') / 255.0\n",
    "X_test_norm = X_test.astype('float32') / 255.0"
   ]
  },
  {
   "cell_type": "code",
   "execution_count": 13,
   "id": "0151d628-67c9-437e-a63e-242a96615fd9",
   "metadata": {},
   "outputs": [
    {
     "name": "stdout",
     "output_type": "stream",
     "text": [
      "Model: \"sequential_2\"\n",
      "_________________________________________________________________\n",
      " Layer (type)                Output Shape              Param #   \n",
      "=================================================================\n",
      " flatten_2 (Flatten)         (None, 784)               0         \n",
      "                                                                 \n",
      " dense_4 (Dense)             (None, 128)               100480    \n",
      "                                                                 \n",
      " dense_5 (Dense)             (None, 10)                1290      \n",
      "                                                                 \n",
      "=================================================================\n",
      "Total params: 101,770\n",
      "Trainable params: 101,770\n",
      "Non-trainable params: 0\n",
      "_________________________________________________________________\n"
     ]
    }
   ],
   "source": [
    "model = Sequential([\n",
    "    Flatten(input_shape=(28, 28)),\n",
    "    Dense(128, activation='relu'),\n",
    "    Dense(10, activation='softmax')\n",
    "])\n",
    "model.compile(optimizer='adam', loss='sparse_categorical_crossentropy', metrics=['accuracy'])\n",
    "model.summary()"
   ]
  },
  {
   "cell_type": "code",
   "execution_count": 14,
   "id": "76a1f1a8-4ffa-48b1-be8c-97648d58d933",
   "metadata": {},
   "outputs": [
    {
     "name": "stdout",
     "output_type": "stream",
     "text": [
      "Epoch 1/5\n",
      "1500/1500 [==============================] - 5s 3ms/step - loss: 0.2921 - accuracy: 0.9174 - val_loss: 0.1577 - val_accuracy: 0.9549\n",
      "Epoch 2/5\n",
      "1500/1500 [==============================] - 4s 3ms/step - loss: 0.1295 - accuracy: 0.9624 - val_loss: 0.1110 - val_accuracy: 0.9688\n",
      "Epoch 3/5\n",
      "1500/1500 [==============================] - 4s 2ms/step - loss: 0.0874 - accuracy: 0.9738 - val_loss: 0.0969 - val_accuracy: 0.9719\n",
      "Epoch 4/5\n",
      "1500/1500 [==============================] - 4s 2ms/step - loss: 0.0633 - accuracy: 0.9810 - val_loss: 0.0866 - val_accuracy: 0.9749\n",
      "Epoch 5/5\n",
      "1500/1500 [==============================] - 4s 3ms/step - loss: 0.0491 - accuracy: 0.9858 - val_loss: 0.0930 - val_accuracy: 0.9736\n"
     ]
    }
   ],
   "source": [
    "history = model.fit(X_train_norm, y_train, epochs=5, validation_split=0.2)"
   ]
  },
  {
   "cell_type": "code",
   "execution_count": 15,
   "id": "77053b9d-5526-4ca8-a628-3315c3789833",
   "metadata": {},
   "outputs": [
    {
     "name": "stdout",
     "output_type": "stream",
     "text": [
      "313/313 [==============================] - 1s 1ms/step - loss: 0.0889 - accuracy: 0.9738\n",
      "Test accuracy: 0.9738\n"
     ]
    }
   ],
   "source": [
    "test_loss, test_acc = model.evaluate(X_test_norm, y_test)\n",
    "print(f\"Test accuracy: {test_acc:.4f}\")"
   ]
  },
  {
   "cell_type": "code",
   "execution_count": 16,
   "id": "d6b32c09-f771-4f35-8e2b-9ee117d2c5b5",
   "metadata": {},
   "outputs": [
    {
     "ename": "SyntaxError",
     "evalue": "invalid syntax (2518854569.py, line 2)",
     "output_type": "error",
     "traceback": [
      "\u001b[1;36m  Cell \u001b[1;32mIn[16], line 2\u001b[1;36m\u001b[0m\n\u001b[1;33m    - Simple neural network with one hidden layer.\u001b[0m\n\u001b[1;37m             ^\u001b[0m\n\u001b[1;31mSyntaxError\u001b[0m\u001b[1;31m:\u001b[0m invalid syntax\n"
     ]
    }
   ],
   "source": [
    "# Baseline MLP Model\n",
    "- Simple neural network with one hidden layer.\n",
    "- Achieves around 97% accuracy on MNIST."
   ]
  },
  {
   "cell_type": "code",
   "execution_count": null,
   "id": "69ca864b-c2b2-4aaf-8aee-b6c1690ca29d",
   "metadata": {},
   "outputs": [],
   "source": []
  }
 ],
 "metadata": {
  "kernelspec": {
   "display_name": "Python 3 (ipykernel)",
   "language": "python",
   "name": "python3"
  },
  "language_info": {
   "codemirror_mode": {
    "name": "ipython",
    "version": 3
   },
   "file_extension": ".py",
   "mimetype": "text/x-python",
   "name": "python",
   "nbconvert_exporter": "python",
   "pygments_lexer": "ipython3",
   "version": "3.10.11"
  }
 },
 "nbformat": 4,
 "nbformat_minor": 5
}
