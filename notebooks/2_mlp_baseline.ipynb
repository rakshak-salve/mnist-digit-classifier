{
 "cells": [
  {
   "cell_type": "code",
   "execution_count": 1,
   "id": "d1920a18-2e7e-44dd-9931-6ce2ce8a001f",
   "metadata": {},
   "outputs": [
    {
     "name": "stdout",
     "output_type": "stream",
     "text": [
      "Libraries imported successfully!\n",
      "MNIST dataset loaded!\n"
     ]
    }
   ],
   "source": [
    "   import numpy as np\n",
    "   import matplotlib.pyplot as plt\n",
    "   from tensorflow.keras.datasets import mnist\n",
    "   from tensorflow.keras.models import Sequential\n",
    "   from tensorflow.keras.layers import Dense, Flatten\n",
    "   from tensorflow.keras.utils import to_categorical\n",
    "\n",
    "   print(\"Libraries imported successfully!\")\n",
    "\n",
    "   # Load the MNIST dataset\n",
    "   (X_train, y_train), (X_test, y_test) = mnist.load_data()\n",
    "   print(\"MNIST dataset loaded!\")"
   ]
  },
  {
   "cell_type": "code",
   "execution_count": 2,
   "id": "89951957-5957-4550-a666-ec979206073f",
   "metadata": {},
   "outputs": [
    {
     "name": "stdout",
     "output_type": "stream",
     "text": [
      "\n",
      "Normalizing image data...\n",
      "X_train_normalized min: 0.0, max: 1.0\n",
      "X_test_normalized min: 0.0, max: 1.0\n",
      "Data preprocessing complete!\n"
     ]
    }
   ],
   "source": [
    "   print(\"\\nNormalizing image data...\")\n",
    "   X_train_normalized = X_train.astype('float32') / 255.0\n",
    "   X_test_normalized = X_test.astype('float32') / 255.0\n",
    "\n",
    "   print(f\"X_train_normalized min: {X_train_normalized.min()}, max: {X_train_normalized.max()}\")\n",
    "   print(f\"X_test_normalized min: {X_test_normalized.min()}, max: {X_test_normalized.max()}\")\n",
    "   print(\"Data preprocessing complete!\")"
   ]
  },
  {
   "cell_type": "code",
   "execution_count": 3,
   "id": "9062661e-9b55-44a0-8ff3-c9695ec46e57",
   "metadata": {},
   "outputs": [
    {
     "name": "stdout",
     "output_type": "stream",
     "text": [
      "\n",
      "Building MLP model architecture...\n"
     ]
    }
   ],
   "source": [
    "   print(\"\\nBuilding MLP model architecture...\")\n",
    "   model = Sequential([\n",
    "       Flatten(input_shape=(28, 28)),      # Converts 2D image to 1D vector\n",
    "       Dense(128, activation='relu'),      # Hidden layer with 128 neurons\n",
    "       Dense(10, activation='softmax')     # Output layer for 10 classes\n",
    "   ])"
   ]
  },
  {
   "cell_type": "code",
   "execution_count": null,
   "id": "98b8bb96-f131-4cb1-b941-4d065f731380",
   "metadata": {},
   "outputs": [],
   "source": []
  }
 ],
 "metadata": {
  "kernelspec": {
   "display_name": "Python 3 (ipykernel)",
   "language": "python",
   "name": "python3"
  },
  "language_info": {
   "codemirror_mode": {
    "name": "ipython",
    "version": 3
   },
   "file_extension": ".py",
   "mimetype": "text/x-python",
   "name": "python",
   "nbconvert_exporter": "python",
   "pygments_lexer": "ipython3",
   "version": "3.10.11"
  }
 },
 "nbformat": 4,
 "nbformat_minor": 5
}
