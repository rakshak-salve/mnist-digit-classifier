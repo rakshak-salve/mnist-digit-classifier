{
 "cells": [
  {
   "cell_type": "code",
   "execution_count": 11,
   "id": "47a99e58-af60-4dda-a4b5-2b187cca8840",
   "metadata": {},
   "outputs": [],
   "source": [
    "import numpy as np\n",
    "from tensorflow.keras.datasets import mnist\n",
    "from tensorflow.keras.models import Sequential\n",
    "from tensorflow.keras.layers import Conv2D, MaxPooling2D, Flatten, Dense\n",
    "import matplotlib.pyplot as plt\n",
    "\n",
    "(X_train, y_train), (X_test, y_test) = mnist.load_data()"
   ]
  },
  {
   "cell_type": "code",
   "execution_count": 12,
   "id": "b9296ea1-e000-450e-87c6-7def2e1bbf72",
   "metadata": {},
   "outputs": [],
   "source": [
    "X_train_cnn = X_train.astype('float32').reshape(-1, 28, 28, 1) / 255.0\n",
    "X_test_cnn = X_test.astype('float32').reshape(-1, 28, 28, 1) / 255.0"
   ]
  },
  {
   "cell_type": "code",
   "execution_count": 13,
   "id": "48c78d42-681f-49b0-8669-b93c49271c72",
   "metadata": {},
   "outputs": [
    {
     "name": "stdout",
     "output_type": "stream",
     "text": [
      "Model: \"sequential_2\"\n",
      "_________________________________________________________________\n",
      " Layer (type)                Output Shape              Param #   \n",
      "=================================================================\n",
      " conv2d_4 (Conv2D)           (None, 26, 26, 32)        320       \n",
      "                                                                 \n",
      " max_pooling2d_4 (MaxPooling  (None, 13, 13, 32)       0         \n",
      " 2D)                                                             \n",
      "                                                                 \n",
      " conv2d_5 (Conv2D)           (None, 11, 11, 64)        18496     \n",
      "                                                                 \n",
      " max_pooling2d_5 (MaxPooling  (None, 5, 5, 64)         0         \n",
      " 2D)                                                             \n",
      "                                                                 \n",
      " flatten_2 (Flatten)         (None, 1600)              0         \n",
      "                                                                 \n",
      " dense_4 (Dense)             (None, 64)                102464    \n",
      "                                                                 \n",
      " dense_5 (Dense)             (None, 10)                650       \n",
      "                                                                 \n",
      "=================================================================\n",
      "Total params: 121,930\n",
      "Trainable params: 121,930\n",
      "Non-trainable params: 0\n",
      "_________________________________________________________________\n"
     ]
    }
   ],
   "source": [
    "model = Sequential([\n",
    "    Conv2D(32, (3,3), activation='relu', input_shape=(28,28,1)),\n",
    "    MaxPooling2D((2,2)),\n",
    "    Conv2D(64, (3,3), activation='relu'),\n",
    "    MaxPooling2D((2,2)),\n",
    "    Flatten(),\n",
    "    Dense(64, activation='relu'),\n",
    "    Dense(10, activation='softmax')\n",
    "])\n",
    "model.compile(optimizer='adam', loss='sparse_categorical_crossentropy', metrics=['accuracy'])\n",
    "model.summary()"
   ]
  },
  {
   "cell_type": "code",
   "execution_count": 14,
   "id": "c4d9c0cf-3a81-46f0-9628-07f8bd37153b",
   "metadata": {},
   "outputs": [
    {
     "name": "stdout",
     "output_type": "stream",
     "text": [
      "Epoch 1/5\n",
      "1500/1500 [==============================] - 24s 16ms/step - loss: 0.1542 - accuracy: 0.9530 - val_loss: 0.0634 - val_accuracy: 0.9818\n",
      "Epoch 2/5\n",
      "1500/1500 [==============================] - 22s 15ms/step - loss: 0.0498 - accuracy: 0.9843 - val_loss: 0.0483 - val_accuracy: 0.9858\n",
      "Epoch 3/5\n",
      "1500/1500 [==============================] - 26s 17ms/step - loss: 0.0348 - accuracy: 0.9886 - val_loss: 0.0434 - val_accuracy: 0.9878\n",
      "Epoch 4/5\n",
      "1500/1500 [==============================] - 25s 17ms/step - loss: 0.0240 - accuracy: 0.9923 - val_loss: 0.0386 - val_accuracy: 0.9883\n",
      "Epoch 5/5\n",
      "1500/1500 [==============================] - 22s 15ms/step - loss: 0.0198 - accuracy: 0.9936 - val_loss: 0.0367 - val_accuracy: 0.9898\n"
     ]
    }
   ],
   "source": [
    "history = model.fit(X_train_cnn, y_train, epochs=5, validation_split=0.2)"
   ]
  },
  {
   "cell_type": "code",
   "execution_count": 15,
   "id": "84541ac8-3436-41ac-89d5-9d289d15884b",
   "metadata": {},
   "outputs": [
    {
     "name": "stdout",
     "output_type": "stream",
     "text": [
      "313/313 [==============================] - 2s 6ms/step - loss: 0.0282 - accuracy: 0.9914\n",
      "Test accuracy: 0.9914\n"
     ]
    }
   ],
   "source": [
    "test_loss, test_acc = model.evaluate(X_test_cnn, y_test)\n",
    "print(f\"Test accuracy: {test_acc:.4f}\")\n",
    "model.save('../models/cnn_mnist.h5')"
   ]
  },
  {
   "cell_type": "code",
   "execution_count": 16,
   "id": "558010e9-af58-4818-b733-a7e2c0c1e3e3",
   "metadata": {},
   "outputs": [
    {
     "ename": "SyntaxError",
     "evalue": "invalid syntax (4055816198.py, line 2)",
     "output_type": "error",
     "traceback": [
      "\u001b[1;36m  Cell \u001b[1;32mIn[16], line 2\u001b[1;36m\u001b[0m\n\u001b[1;33m    - Uses convolutional and pooling layers for feature extraction.\u001b[0m\n\u001b[1;37m           ^\u001b[0m\n\u001b[1;31mSyntaxError\u001b[0m\u001b[1;31m:\u001b[0m invalid syntax\n"
     ]
    }
   ],
   "source": [
    "# CNN Model\n",
    "- Uses convolutional and pooling layers for feature extraction.\n",
    "- Achieves around 99% accuracy on MNIST."
   ]
  },
  {
   "cell_type": "code",
   "execution_count": null,
   "id": "e6a20d51-c63d-422b-8de9-da08d082f456",
   "metadata": {},
   "outputs": [],
   "source": []
  }
 ],
 "metadata": {
  "kernelspec": {
   "display_name": "Python 3 (ipykernel)",
   "language": "python",
   "name": "python3"
  },
  "language_info": {
   "codemirror_mode": {
    "name": "ipython",
    "version": 3
   },
   "file_extension": ".py",
   "mimetype": "text/x-python",
   "name": "python",
   "nbconvert_exporter": "python",
   "pygments_lexer": "ipython3",
   "version": "3.10.11"
  }
 },
 "nbformat": 4,
 "nbformat_minor": 5
}
