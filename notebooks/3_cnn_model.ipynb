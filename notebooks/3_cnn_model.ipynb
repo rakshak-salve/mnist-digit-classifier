{
 "cells": [
  {
   "cell_type": "code",
   "execution_count": 1,
   "id": "9a069ee1-9125-4621-b33e-6aeb7ded94fa",
   "metadata": {},
   "outputs": [
    {
     "name": "stdout",
     "output_type": "stream",
     "text": [
      "Libraries imported successfully!\n",
      "MNIST dataset loaded!\n",
      "Shape of X_train after reshaping: (60000, 28, 28, 1)\n",
      "Shape of X_test after reshaping: (10000, 28, 28, 1)\n",
      "Data preprocessing for CNN complete!\n"
     ]
    }
   ],
   "source": [
    "    import numpy as np\n",
    "    import matplotlib.pyplot as plt\n",
    "    from tensorflow.keras.datasets import mnist\n",
    "    from tensorflow.keras.models import Sequential\n",
    "    from tensorflow.keras.layers import Conv2D, MaxPooling2D, Flatten, Dense\n",
    "\n",
    "    print(\"Libraries imported successfully!\")\n",
    "\n",
    "    # Load the MNIST dataset\n",
    "    (X_train, y_train), (X_test, y_test) = mnist.load_data()\n",
    "    print(\"MNIST dataset loaded!\")\n",
    "\n",
    "    # Normalize pixel values\n",
    "    X_train_normalized = X_train.astype('float32') / 255.0\n",
    "    X_test_normalized = X_test.astype('float32') / 255.0\n",
    "\n",
    "    # Reshape for CNN input\n",
    "    X_train_cnn = X_train_normalized.reshape(X_train_normalized.shape[0], 28, 28, 1)\n",
    "    X_test_cnn = X_test_normalized.reshape(X_test_normalized.shape[0], 28, 28, 1)\n",
    "\n",
    "    print(f\"Shape of X_train after reshaping: {X_train_cnn.shape}\")\n",
    "    print(f\"Shape of X_test after reshaping: {X_test_cnn.shape}\")\n",
    "    print(\"Data preprocessing for CNN complete!\")"
   ]
  },
  {
   "cell_type": "code",
   "execution_count": 2,
   "id": "b4a1df00-109f-402b-9394-fd30b0e6aaf4",
   "metadata": {},
   "outputs": [
    {
     "name": "stdout",
     "output_type": "stream",
     "text": [
      "\n",
      "Building CNN model architecture...\n",
      "Compiling CNN model...\n",
      "Model: \"sequential\"\n",
      "_________________________________________________________________\n",
      " Layer (type)                Output Shape              Param #   \n",
      "=================================================================\n",
      " conv2d (Conv2D)             (None, 26, 26, 32)        320       \n",
      "                                                                 \n",
      " max_pooling2d (MaxPooling2D  (None, 13, 13, 32)       0         \n",
      " )                                                               \n",
      "                                                                 \n",
      " conv2d_1 (Conv2D)           (None, 11, 11, 64)        18496     \n",
      "                                                                 \n",
      " max_pooling2d_1 (MaxPooling  (None, 5, 5, 64)         0         \n",
      " 2D)                                                             \n",
      "                                                                 \n",
      " flatten (Flatten)           (None, 1600)              0         \n",
      "                                                                 \n",
      " dense (Dense)               (None, 64)                102464    \n",
      "                                                                 \n",
      " dense_1 (Dense)             (None, 10)                650       \n",
      "                                                                 \n",
      "=================================================================\n",
      "Total params: 121,930\n",
      "Trainable params: 121,930\n",
      "Non-trainable params: 0\n",
      "_________________________________________________________________\n",
      "CNN model built and compiled successfully!\n"
     ]
    }
   ],
   "source": [
    "    print(\"\\nBuilding CNN model architecture...\")\n",
    "    model_cnn = Sequential([\n",
    "        Conv2D(32, (3,3), activation='relu', input_shape=(28,28,1)),\n",
    "        MaxPooling2D((2,2)),\n",
    "        Conv2D(64, (3,3), activation='relu'),\n",
    "        MaxPooling2D((2,2)),\n",
    "        Flatten(),\n",
    "        Dense(64, activation='relu'),\n",
    "        Dense(10, activation='softmax')\n",
    "    ])\n",
    "\n",
    "    print(\"Compiling CNN model...\")\n",
    "    model_cnn.compile(\n",
    "        optimizer='adam',\n",
    "        loss='sparse_categorical_crossentropy',\n",
    "        metrics=['accuracy']\n",
    "    )\n",
    "\n",
    "    model_cnn.summary()\n",
    "    print(\"CNN model built and compiled successfully!\")"
   ]
  },
  {
   "cell_type": "code",
   "execution_count": 3,
   "id": "cd70d55f-b1e3-427a-9a87-58f32038b0c5",
   "metadata": {},
   "outputs": [
    {
     "name": "stdout",
     "output_type": "stream",
     "text": [
      "\n",
      "Starting CNN model training...\n",
      "Epoch 1/5\n",
      "1500/1500 [==============================] - 21s 13ms/step - loss: 0.1519 - accuracy: 0.9540 - val_loss: 0.0615 - val_accuracy: 0.9806\n",
      "Epoch 2/5\n",
      "1500/1500 [==============================] - 21s 14ms/step - loss: 0.0493 - accuracy: 0.9842 - val_loss: 0.0503 - val_accuracy: 0.9869\n",
      "Epoch 3/5\n",
      "1500/1500 [==============================] - 21s 14ms/step - loss: 0.0330 - accuracy: 0.9898 - val_loss: 0.0426 - val_accuracy: 0.9872\n",
      "Epoch 4/5\n",
      "1500/1500 [==============================] - 22s 14ms/step - loss: 0.0239 - accuracy: 0.9918 - val_loss: 0.0412 - val_accuracy: 0.9881\n",
      "Epoch 5/5\n",
      "1500/1500 [==============================] - 22s 15ms/step - loss: 0.0184 - accuracy: 0.9938 - val_loss: 0.0478 - val_accuracy: 0.9874\n",
      "\n",
      "CNN Model training complete!\n"
     ]
    }
   ],
   "source": [
    "    print(\"\\nStarting CNN model training...\")\n",
    "    history_cnn = model_cnn.fit(\n",
    "        X_train_cnn, y_train,\n",
    "        epochs=5,\n",
    "        validation_split=0.2,\n",
    "        verbose=1\n",
    "    )\n",
    "    print(\"\\nCNN Model training complete!\")"
   ]
  },
  {
   "cell_type": "code",
   "execution_count": null,
   "id": "da054264-aef9-4590-84f1-1874ff99386c",
   "metadata": {},
   "outputs": [],
   "source": []
  }
 ],
 "metadata": {
  "kernelspec": {
   "display_name": "Python 3 (ipykernel)",
   "language": "python",
   "name": "python3"
  },
  "language_info": {
   "codemirror_mode": {
    "name": "ipython",
    "version": 3
   },
   "file_extension": ".py",
   "mimetype": "text/x-python",
   "name": "python",
   "nbconvert_exporter": "python",
   "pygments_lexer": "ipython3",
   "version": "3.10.11"
  }
 },
 "nbformat": 4,
 "nbformat_minor": 5
}
